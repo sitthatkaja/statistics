{
  "nbformat": 4,
  "nbformat_minor": 0,
  "metadata": {
    "colab": {
      "provenance": [],
      "authorship_tag": "ABX9TyOB4Hrad0HpuZOS91JPJefX",
      "include_colab_link": true
    },
    "kernelspec": {
      "name": "python3",
      "display_name": "Python 3"
    },
    "language_info": {
      "name": "python"
    }
  },
  "cells": [
    {
      "cell_type": "markdown",
      "metadata": {
        "id": "view-in-github",
        "colab_type": "text"
      },
      "source": [
        "<a href=\"https://colab.research.google.com/github/sitthatkaja/statistics/blob/main/AnotherCases.ipynb\" target=\"_parent\"><img src=\"https://colab.research.google.com/assets/colab-badge.svg\" alt=\"Open In Colab\"/></a>"
      ]
    },
    {
      "cell_type": "code",
      "execution_count": 1,
      "metadata": {
        "id": "ZGX0fo-sJeDr"
      },
      "outputs": [],
      "source": [
        "import pandas"
      ]
    },
    {
      "cell_type": "code",
      "source": [
        "from google.colab import drive\n",
        "drive.mount('/content/drive')"
      ],
      "metadata": {
        "colab": {
          "base_uri": "https://localhost:8080/"
        },
        "id": "fwtknucGJqAJ",
        "outputId": "3613ab80-f516-466f-cc49-adcb7941084d"
      },
      "execution_count": 4,
      "outputs": [
        {
          "output_type": "stream",
          "name": "stdout",
          "text": [
            "Drive already mounted at /content/drive; to attempt to forcibly remount, call drive.mount(\"/content/drive\", force_remount=True).\n"
          ]
        }
      ]
    },
    {
      "cell_type": "markdown",
      "source": [
        "https://data.bangkok.go.th/dataset/accident"
      ],
      "metadata": {
        "id": "-Uj9PTKyNrR_"
      }
    },
    {
      "cell_type": "code",
      "source": [
        "table_ex = pandas.read_csv('/content/drive/MyDrive/DPDM23_DATA/66.csv')\n",
        "table_ex"
      ],
      "metadata": {
        "colab": {
          "base_uri": "https://localhost:8080/",
          "height": 269
        },
        "id": "y4XiuSyBNuvM",
        "outputId": "0a89d002-63dc-4a90-f2a4-ba0cdbbcc724"
      },
      "execution_count": 5,
      "outputs": [
        {
          "output_type": "execute_result",
          "data": {
            "text/plain": [
              "   No       Month  Year  ThonN_dead  ThonS_dead  KTN_dead  KTC_dead  KTE_dead  \\\n",
              "0   1      มกราคม  2566           8          15         6         4        20   \n",
              "1   2  กุมภาพันธ์  2566           6          13        10         4        32   \n",
              "2   3      มีนาคม  2566          10          15        13         5        23   \n",
              "3   4      เมษายน  2566           7          14        11         4        32   \n",
              "4   5     พฤษภาคม  2566           6          12        16        12        18   \n",
              "5   6    มิถุนายน  2566          12          13        13         6        16   \n",
              "6   7     กรกฎาคม  2566          10          16        16        10        19   \n",
              "\n",
              "   KTS_dead  TTL_Dead  \n",
              "0         9        62  \n",
              "1        16        81  \n",
              "2         9        75  \n",
              "3        15        83  \n",
              "4         7        71  \n",
              "5         8        68  \n",
              "6         7        78  "
            ],
            "text/html": [
              "\n",
              "\n",
              "  <div id=\"df-13947f26-5506-47a7-ab24-51696055c8a1\">\n",
              "    <div class=\"colab-df-container\">\n",
              "      <div>\n",
              "<style scoped>\n",
              "    .dataframe tbody tr th:only-of-type {\n",
              "        vertical-align: middle;\n",
              "    }\n",
              "\n",
              "    .dataframe tbody tr th {\n",
              "        vertical-align: top;\n",
              "    }\n",
              "\n",
              "    .dataframe thead th {\n",
              "        text-align: right;\n",
              "    }\n",
              "</style>\n",
              "<table border=\"1\" class=\"dataframe\">\n",
              "  <thead>\n",
              "    <tr style=\"text-align: right;\">\n",
              "      <th></th>\n",
              "      <th>No</th>\n",
              "      <th>Month</th>\n",
              "      <th>Year</th>\n",
              "      <th>ThonN_dead</th>\n",
              "      <th>ThonS_dead</th>\n",
              "      <th>KTN_dead</th>\n",
              "      <th>KTC_dead</th>\n",
              "      <th>KTE_dead</th>\n",
              "      <th>KTS_dead</th>\n",
              "      <th>TTL_Dead</th>\n",
              "    </tr>\n",
              "  </thead>\n",
              "  <tbody>\n",
              "    <tr>\n",
              "      <th>0</th>\n",
              "      <td>1</td>\n",
              "      <td>มกราคม</td>\n",
              "      <td>2566</td>\n",
              "      <td>8</td>\n",
              "      <td>15</td>\n",
              "      <td>6</td>\n",
              "      <td>4</td>\n",
              "      <td>20</td>\n",
              "      <td>9</td>\n",
              "      <td>62</td>\n",
              "    </tr>\n",
              "    <tr>\n",
              "      <th>1</th>\n",
              "      <td>2</td>\n",
              "      <td>กุมภาพันธ์</td>\n",
              "      <td>2566</td>\n",
              "      <td>6</td>\n",
              "      <td>13</td>\n",
              "      <td>10</td>\n",
              "      <td>4</td>\n",
              "      <td>32</td>\n",
              "      <td>16</td>\n",
              "      <td>81</td>\n",
              "    </tr>\n",
              "    <tr>\n",
              "      <th>2</th>\n",
              "      <td>3</td>\n",
              "      <td>มีนาคม</td>\n",
              "      <td>2566</td>\n",
              "      <td>10</td>\n",
              "      <td>15</td>\n",
              "      <td>13</td>\n",
              "      <td>5</td>\n",
              "      <td>23</td>\n",
              "      <td>9</td>\n",
              "      <td>75</td>\n",
              "    </tr>\n",
              "    <tr>\n",
              "      <th>3</th>\n",
              "      <td>4</td>\n",
              "      <td>เมษายน</td>\n",
              "      <td>2566</td>\n",
              "      <td>7</td>\n",
              "      <td>14</td>\n",
              "      <td>11</td>\n",
              "      <td>4</td>\n",
              "      <td>32</td>\n",
              "      <td>15</td>\n",
              "      <td>83</td>\n",
              "    </tr>\n",
              "    <tr>\n",
              "      <th>4</th>\n",
              "      <td>5</td>\n",
              "      <td>พฤษภาคม</td>\n",
              "      <td>2566</td>\n",
              "      <td>6</td>\n",
              "      <td>12</td>\n",
              "      <td>16</td>\n",
              "      <td>12</td>\n",
              "      <td>18</td>\n",
              "      <td>7</td>\n",
              "      <td>71</td>\n",
              "    </tr>\n",
              "    <tr>\n",
              "      <th>5</th>\n",
              "      <td>6</td>\n",
              "      <td>มิถุนายน</td>\n",
              "      <td>2566</td>\n",
              "      <td>12</td>\n",
              "      <td>13</td>\n",
              "      <td>13</td>\n",
              "      <td>6</td>\n",
              "      <td>16</td>\n",
              "      <td>8</td>\n",
              "      <td>68</td>\n",
              "    </tr>\n",
              "    <tr>\n",
              "      <th>6</th>\n",
              "      <td>7</td>\n",
              "      <td>กรกฎาคม</td>\n",
              "      <td>2566</td>\n",
              "      <td>10</td>\n",
              "      <td>16</td>\n",
              "      <td>16</td>\n",
              "      <td>10</td>\n",
              "      <td>19</td>\n",
              "      <td>7</td>\n",
              "      <td>78</td>\n",
              "    </tr>\n",
              "  </tbody>\n",
              "</table>\n",
              "</div>\n",
              "      <button class=\"colab-df-convert\" onclick=\"convertToInteractive('df-13947f26-5506-47a7-ab24-51696055c8a1')\"\n",
              "              title=\"Convert this dataframe to an interactive table.\"\n",
              "              style=\"display:none;\">\n",
              "\n",
              "  <svg xmlns=\"http://www.w3.org/2000/svg\" height=\"24px\"viewBox=\"0 0 24 24\"\n",
              "       width=\"24px\">\n",
              "    <path d=\"M0 0h24v24H0V0z\" fill=\"none\"/>\n",
              "    <path d=\"M18.56 5.44l.94 2.06.94-2.06 2.06-.94-2.06-.94-.94-2.06-.94 2.06-2.06.94zm-11 1L8.5 8.5l.94-2.06 2.06-.94-2.06-.94L8.5 2.5l-.94 2.06-2.06.94zm10 10l.94 2.06.94-2.06 2.06-.94-2.06-.94-.94-2.06-.94 2.06-2.06.94z\"/><path d=\"M17.41 7.96l-1.37-1.37c-.4-.4-.92-.59-1.43-.59-.52 0-1.04.2-1.43.59L10.3 9.45l-7.72 7.72c-.78.78-.78 2.05 0 2.83L4 21.41c.39.39.9.59 1.41.59.51 0 1.02-.2 1.41-.59l7.78-7.78 2.81-2.81c.8-.78.8-2.07 0-2.86zM5.41 20L4 18.59l7.72-7.72 1.47 1.35L5.41 20z\"/>\n",
              "  </svg>\n",
              "      </button>\n",
              "\n",
              "\n",
              "\n",
              "    <div id=\"df-f61817a3-068b-49c4-93ec-6549b1be13ec\">\n",
              "      <button class=\"colab-df-quickchart\" onclick=\"quickchart('df-f61817a3-068b-49c4-93ec-6549b1be13ec')\"\n",
              "              title=\"Suggest charts.\"\n",
              "              style=\"display:none;\">\n",
              "\n",
              "<svg xmlns=\"http://www.w3.org/2000/svg\" height=\"24px\"viewBox=\"0 0 24 24\"\n",
              "     width=\"24px\">\n",
              "    <g>\n",
              "        <path d=\"M19 3H5c-1.1 0-2 .9-2 2v14c0 1.1.9 2 2 2h14c1.1 0 2-.9 2-2V5c0-1.1-.9-2-2-2zM9 17H7v-7h2v7zm4 0h-2V7h2v10zm4 0h-2v-4h2v4z\"/>\n",
              "    </g>\n",
              "</svg>\n",
              "      </button>\n",
              "    </div>\n",
              "\n",
              "<style>\n",
              "  .colab-df-quickchart {\n",
              "    background-color: #E8F0FE;\n",
              "    border: none;\n",
              "    border-radius: 50%;\n",
              "    cursor: pointer;\n",
              "    display: none;\n",
              "    fill: #1967D2;\n",
              "    height: 32px;\n",
              "    padding: 0 0 0 0;\n",
              "    width: 32px;\n",
              "  }\n",
              "\n",
              "  .colab-df-quickchart:hover {\n",
              "    background-color: #E2EBFA;\n",
              "    box-shadow: 0px 1px 2px rgba(60, 64, 67, 0.3), 0px 1px 3px 1px rgba(60, 64, 67, 0.15);\n",
              "    fill: #174EA6;\n",
              "  }\n",
              "\n",
              "  [theme=dark] .colab-df-quickchart {\n",
              "    background-color: #3B4455;\n",
              "    fill: #D2E3FC;\n",
              "  }\n",
              "\n",
              "  [theme=dark] .colab-df-quickchart:hover {\n",
              "    background-color: #434B5C;\n",
              "    box-shadow: 0px 1px 3px 1px rgba(0, 0, 0, 0.15);\n",
              "    filter: drop-shadow(0px 1px 2px rgba(0, 0, 0, 0.3));\n",
              "    fill: #FFFFFF;\n",
              "  }\n",
              "</style>\n",
              "\n",
              "    <script>\n",
              "      async function quickchart(key) {\n",
              "        const containerElement = document.querySelector('#' + key);\n",
              "        const charts = await google.colab.kernel.invokeFunction(\n",
              "            'suggestCharts', [key], {});\n",
              "      }\n",
              "    </script>\n",
              "\n",
              "      <script>\n",
              "\n",
              "function displayQuickchartButton(domScope) {\n",
              "  let quickchartButtonEl =\n",
              "    domScope.querySelector('#df-f61817a3-068b-49c4-93ec-6549b1be13ec button.colab-df-quickchart');\n",
              "  quickchartButtonEl.style.display =\n",
              "    google.colab.kernel.accessAllowed ? 'block' : 'none';\n",
              "}\n",
              "\n",
              "        displayQuickchartButton(document);\n",
              "      </script>\n",
              "      <style>\n",
              "    .colab-df-container {\n",
              "      display:flex;\n",
              "      flex-wrap:wrap;\n",
              "      gap: 12px;\n",
              "    }\n",
              "\n",
              "    .colab-df-convert {\n",
              "      background-color: #E8F0FE;\n",
              "      border: none;\n",
              "      border-radius: 50%;\n",
              "      cursor: pointer;\n",
              "      display: none;\n",
              "      fill: #1967D2;\n",
              "      height: 32px;\n",
              "      padding: 0 0 0 0;\n",
              "      width: 32px;\n",
              "    }\n",
              "\n",
              "    .colab-df-convert:hover {\n",
              "      background-color: #E2EBFA;\n",
              "      box-shadow: 0px 1px 2px rgba(60, 64, 67, 0.3), 0px 1px 3px 1px rgba(60, 64, 67, 0.15);\n",
              "      fill: #174EA6;\n",
              "    }\n",
              "\n",
              "    [theme=dark] .colab-df-convert {\n",
              "      background-color: #3B4455;\n",
              "      fill: #D2E3FC;\n",
              "    }\n",
              "\n",
              "    [theme=dark] .colab-df-convert:hover {\n",
              "      background-color: #434B5C;\n",
              "      box-shadow: 0px 1px 3px 1px rgba(0, 0, 0, 0.15);\n",
              "      filter: drop-shadow(0px 1px 2px rgba(0, 0, 0, 0.3));\n",
              "      fill: #FFFFFF;\n",
              "    }\n",
              "  </style>\n",
              "\n",
              "      <script>\n",
              "        const buttonEl =\n",
              "          document.querySelector('#df-13947f26-5506-47a7-ab24-51696055c8a1 button.colab-df-convert');\n",
              "        buttonEl.style.display =\n",
              "          google.colab.kernel.accessAllowed ? 'block' : 'none';\n",
              "\n",
              "        async function convertToInteractive(key) {\n",
              "          const element = document.querySelector('#df-13947f26-5506-47a7-ab24-51696055c8a1');\n",
              "          const dataTable =\n",
              "            await google.colab.kernel.invokeFunction('convertToInteractive',\n",
              "                                                     [key], {});\n",
              "          if (!dataTable) return;\n",
              "\n",
              "          const docLinkHtml = 'Like what you see? Visit the ' +\n",
              "            '<a target=\"_blank\" href=https://colab.research.google.com/notebooks/data_table.ipynb>data table notebook</a>'\n",
              "            + ' to learn more about interactive tables.';\n",
              "          element.innerHTML = '';\n",
              "          dataTable['output_type'] = 'display_data';\n",
              "          await google.colab.output.renderOutput(dataTable, element);\n",
              "          const docLink = document.createElement('div');\n",
              "          docLink.innerHTML = docLinkHtml;\n",
              "          element.appendChild(docLink);\n",
              "        }\n",
              "      </script>\n",
              "    </div>\n",
              "  </div>\n"
            ]
          },
          "metadata": {},
          "execution_count": 5
        }
      ]
    },
    {
      "cell_type": "markdown",
      "source": [
        "![image.png](data:image/png;base64,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)"
      ],
      "metadata": {
        "id": "d6sKhHJcO2nd"
      }
    },
    {
      "cell_type": "markdown",
      "source": [
        "Step 1 : Eyes ball"
      ],
      "metadata": {
        "id": "NjY9YJrVOKXN"
      }
    },
    {
      "cell_type": "code",
      "source": [
        "table_ex.shape"
      ],
      "metadata": {
        "colab": {
          "base_uri": "https://localhost:8080/"
        },
        "id": "_Y-Jhe2XOX9o",
        "outputId": "af1b6278-bb70-4089-a959-e3cc6b51f160"
      },
      "execution_count": 6,
      "outputs": [
        {
          "output_type": "execute_result",
          "data": {
            "text/plain": [
              "(7, 10)"
            ]
          },
          "metadata": {},
          "execution_count": 6
        }
      ]
    },
    {
      "cell_type": "code",
      "source": [
        "table_ex.isnull().any()"
      ],
      "metadata": {
        "colab": {
          "base_uri": "https://localhost:8080/"
        },
        "id": "31vIKlU8OaKX",
        "outputId": "eefcd69d-addf-44bf-dc36-a118bff11598"
      },
      "execution_count": 7,
      "outputs": [
        {
          "output_type": "execute_result",
          "data": {
            "text/plain": [
              "No            False\n",
              "Month         False\n",
              "Year          False\n",
              "ThonN_dead    False\n",
              "ThonS_dead    False\n",
              "KTN_dead      False\n",
              "KTC_dead      False\n",
              "KTE_dead      False\n",
              "KTS_dead      False\n",
              "TTL_Dead      False\n",
              "dtype: bool"
            ]
          },
          "metadata": {},
          "execution_count": 7
        }
      ]
    },
    {
      "cell_type": "markdown",
      "source": [
        "step 2 Descriptive Statistic"
      ],
      "metadata": {
        "id": "-wD1foYnOgm6"
      }
    },
    {
      "cell_type": "code",
      "source": [
        "table_ex.describe()"
      ],
      "metadata": {
        "colab": {
          "base_uri": "https://localhost:8080/",
          "height": 300
        },
        "id": "7oazgLHqOgQS",
        "outputId": "dfc35eb3-e178-420d-aca8-cf3813ad2d26"
      },
      "execution_count": 8,
      "outputs": [
        {
          "output_type": "execute_result",
          "data": {
            "text/plain": [
              "             No    Year  ThonN_dead  ThonS_dead   KTN_dead   KTC_dead  \\\n",
              "count  7.000000     7.0    7.000000    7.000000   7.000000   7.000000   \n",
              "mean   4.000000  2566.0    8.428571   14.000000  12.142857   6.428571   \n",
              "std    2.160247     0.0    2.299068    1.414214   3.532165   3.258688   \n",
              "min    1.000000  2566.0    6.000000   12.000000   6.000000   4.000000   \n",
              "25%    2.500000  2566.0    6.500000   13.000000  10.500000   4.000000   \n",
              "50%    4.000000  2566.0    8.000000   14.000000  13.000000   5.000000   \n",
              "75%    5.500000  2566.0   10.000000   15.000000  14.500000   8.000000   \n",
              "max    7.000000  2566.0   12.000000   16.000000  16.000000  12.000000   \n",
              "\n",
              "        KTE_dead   KTS_dead   TTL_Dead  \n",
              "count   7.000000   7.000000   7.000000  \n",
              "mean   22.857143  10.142857  74.000000  \n",
              "std     6.593648   3.760699   7.483315  \n",
              "min    16.000000   7.000000  62.000000  \n",
              "25%    18.500000   7.500000  69.500000  \n",
              "50%    20.000000   9.000000  75.000000  \n",
              "75%    27.500000  12.000000  79.500000  \n",
              "max    32.000000  16.000000  83.000000  "
            ],
            "text/html": [
              "\n",
              "\n",
              "  <div id=\"df-88bc30f9-d36c-419c-8c64-19ed14118687\">\n",
              "    <div class=\"colab-df-container\">\n",
              "      <div>\n",
              "<style scoped>\n",
              "    .dataframe tbody tr th:only-of-type {\n",
              "        vertical-align: middle;\n",
              "    }\n",
              "\n",
              "    .dataframe tbody tr th {\n",
              "        vertical-align: top;\n",
              "    }\n",
              "\n",
              "    .dataframe thead th {\n",
              "        text-align: right;\n",
              "    }\n",
              "</style>\n",
              "<table border=\"1\" class=\"dataframe\">\n",
              "  <thead>\n",
              "    <tr style=\"text-align: right;\">\n",
              "      <th></th>\n",
              "      <th>No</th>\n",
              "      <th>Year</th>\n",
              "      <th>ThonN_dead</th>\n",
              "      <th>ThonS_dead</th>\n",
              "      <th>KTN_dead</th>\n",
              "      <th>KTC_dead</th>\n",
              "      <th>KTE_dead</th>\n",
              "      <th>KTS_dead</th>\n",
              "      <th>TTL_Dead</th>\n",
              "    </tr>\n",
              "  </thead>\n",
              "  <tbody>\n",
              "    <tr>\n",
              "      <th>count</th>\n",
              "      <td>7.000000</td>\n",
              "      <td>7.0</td>\n",
              "      <td>7.000000</td>\n",
              "      <td>7.000000</td>\n",
              "      <td>7.000000</td>\n",
              "      <td>7.000000</td>\n",
              "      <td>7.000000</td>\n",
              "      <td>7.000000</td>\n",
              "      <td>7.000000</td>\n",
              "    </tr>\n",
              "    <tr>\n",
              "      <th>mean</th>\n",
              "      <td>4.000000</td>\n",
              "      <td>2566.0</td>\n",
              "      <td>8.428571</td>\n",
              "      <td>14.000000</td>\n",
              "      <td>12.142857</td>\n",
              "      <td>6.428571</td>\n",
              "      <td>22.857143</td>\n",
              "      <td>10.142857</td>\n",
              "      <td>74.000000</td>\n",
              "    </tr>\n",
              "    <tr>\n",
              "      <th>std</th>\n",
              "      <td>2.160247</td>\n",
              "      <td>0.0</td>\n",
              "      <td>2.299068</td>\n",
              "      <td>1.414214</td>\n",
              "      <td>3.532165</td>\n",
              "      <td>3.258688</td>\n",
              "      <td>6.593648</td>\n",
              "      <td>3.760699</td>\n",
              "      <td>7.483315</td>\n",
              "    </tr>\n",
              "    <tr>\n",
              "      <th>min</th>\n",
              "      <td>1.000000</td>\n",
              "      <td>2566.0</td>\n",
              "      <td>6.000000</td>\n",
              "      <td>12.000000</td>\n",
              "      <td>6.000000</td>\n",
              "      <td>4.000000</td>\n",
              "      <td>16.000000</td>\n",
              "      <td>7.000000</td>\n",
              "      <td>62.000000</td>\n",
              "    </tr>\n",
              "    <tr>\n",
              "      <th>25%</th>\n",
              "      <td>2.500000</td>\n",
              "      <td>2566.0</td>\n",
              "      <td>6.500000</td>\n",
              "      <td>13.000000</td>\n",
              "      <td>10.500000</td>\n",
              "      <td>4.000000</td>\n",
              "      <td>18.500000</td>\n",
              "      <td>7.500000</td>\n",
              "      <td>69.500000</td>\n",
              "    </tr>\n",
              "    <tr>\n",
              "      <th>50%</th>\n",
              "      <td>4.000000</td>\n",
              "      <td>2566.0</td>\n",
              "      <td>8.000000</td>\n",
              "      <td>14.000000</td>\n",
              "      <td>13.000000</td>\n",
              "      <td>5.000000</td>\n",
              "      <td>20.000000</td>\n",
              "      <td>9.000000</td>\n",
              "      <td>75.000000</td>\n",
              "    </tr>\n",
              "    <tr>\n",
              "      <th>75%</th>\n",
              "      <td>5.500000</td>\n",
              "      <td>2566.0</td>\n",
              "      <td>10.000000</td>\n",
              "      <td>15.000000</td>\n",
              "      <td>14.500000</td>\n",
              "      <td>8.000000</td>\n",
              "      <td>27.500000</td>\n",
              "      <td>12.000000</td>\n",
              "      <td>79.500000</td>\n",
              "    </tr>\n",
              "    <tr>\n",
              "      <th>max</th>\n",
              "      <td>7.000000</td>\n",
              "      <td>2566.0</td>\n",
              "      <td>12.000000</td>\n",
              "      <td>16.000000</td>\n",
              "      <td>16.000000</td>\n",
              "      <td>12.000000</td>\n",
              "      <td>32.000000</td>\n",
              "      <td>16.000000</td>\n",
              "      <td>83.000000</td>\n",
              "    </tr>\n",
              "  </tbody>\n",
              "</table>\n",
              "</div>\n",
              "      <button class=\"colab-df-convert\" onclick=\"convertToInteractive('df-88bc30f9-d36c-419c-8c64-19ed14118687')\"\n",
              "              title=\"Convert this dataframe to an interactive table.\"\n",
              "              style=\"display:none;\">\n",
              "\n",
              "  <svg xmlns=\"http://www.w3.org/2000/svg\" height=\"24px\"viewBox=\"0 0 24 24\"\n",
              "       width=\"24px\">\n",
              "    <path d=\"M0 0h24v24H0V0z\" fill=\"none\"/>\n",
              "    <path d=\"M18.56 5.44l.94 2.06.94-2.06 2.06-.94-2.06-.94-.94-2.06-.94 2.06-2.06.94zm-11 1L8.5 8.5l.94-2.06 2.06-.94-2.06-.94L8.5 2.5l-.94 2.06-2.06.94zm10 10l.94 2.06.94-2.06 2.06-.94-2.06-.94-.94-2.06-.94 2.06-2.06.94z\"/><path d=\"M17.41 7.96l-1.37-1.37c-.4-.4-.92-.59-1.43-.59-.52 0-1.04.2-1.43.59L10.3 9.45l-7.72 7.72c-.78.78-.78 2.05 0 2.83L4 21.41c.39.39.9.59 1.41.59.51 0 1.02-.2 1.41-.59l7.78-7.78 2.81-2.81c.8-.78.8-2.07 0-2.86zM5.41 20L4 18.59l7.72-7.72 1.47 1.35L5.41 20z\"/>\n",
              "  </svg>\n",
              "      </button>\n",
              "\n",
              "\n",
              "\n",
              "    <div id=\"df-e98c8668-066a-44a0-9a05-961dd509fd98\">\n",
              "      <button class=\"colab-df-quickchart\" onclick=\"quickchart('df-e98c8668-066a-44a0-9a05-961dd509fd98')\"\n",
              "              title=\"Suggest charts.\"\n",
              "              style=\"display:none;\">\n",
              "\n",
              "<svg xmlns=\"http://www.w3.org/2000/svg\" height=\"24px\"viewBox=\"0 0 24 24\"\n",
              "     width=\"24px\">\n",
              "    <g>\n",
              "        <path d=\"M19 3H5c-1.1 0-2 .9-2 2v14c0 1.1.9 2 2 2h14c1.1 0 2-.9 2-2V5c0-1.1-.9-2-2-2zM9 17H7v-7h2v7zm4 0h-2V7h2v10zm4 0h-2v-4h2v4z\"/>\n",
              "    </g>\n",
              "</svg>\n",
              "      </button>\n",
              "    </div>\n",
              "\n",
              "<style>\n",
              "  .colab-df-quickchart {\n",
              "    background-color: #E8F0FE;\n",
              "    border: none;\n",
              "    border-radius: 50%;\n",
              "    cursor: pointer;\n",
              "    display: none;\n",
              "    fill: #1967D2;\n",
              "    height: 32px;\n",
              "    padding: 0 0 0 0;\n",
              "    width: 32px;\n",
              "  }\n",
              "\n",
              "  .colab-df-quickchart:hover {\n",
              "    background-color: #E2EBFA;\n",
              "    box-shadow: 0px 1px 2px rgba(60, 64, 67, 0.3), 0px 1px 3px 1px rgba(60, 64, 67, 0.15);\n",
              "    fill: #174EA6;\n",
              "  }\n",
              "\n",
              "  [theme=dark] .colab-df-quickchart {\n",
              "    background-color: #3B4455;\n",
              "    fill: #D2E3FC;\n",
              "  }\n",
              "\n",
              "  [theme=dark] .colab-df-quickchart:hover {\n",
              "    background-color: #434B5C;\n",
              "    box-shadow: 0px 1px 3px 1px rgba(0, 0, 0, 0.15);\n",
              "    filter: drop-shadow(0px 1px 2px rgba(0, 0, 0, 0.3));\n",
              "    fill: #FFFFFF;\n",
              "  }\n",
              "</style>\n",
              "\n",
              "    <script>\n",
              "      async function quickchart(key) {\n",
              "        const containerElement = document.querySelector('#' + key);\n",
              "        const charts = await google.colab.kernel.invokeFunction(\n",
              "            'suggestCharts', [key], {});\n",
              "      }\n",
              "    </script>\n",
              "\n",
              "      <script>\n",
              "\n",
              "function displayQuickchartButton(domScope) {\n",
              "  let quickchartButtonEl =\n",
              "    domScope.querySelector('#df-e98c8668-066a-44a0-9a05-961dd509fd98 button.colab-df-quickchart');\n",
              "  quickchartButtonEl.style.display =\n",
              "    google.colab.kernel.accessAllowed ? 'block' : 'none';\n",
              "}\n",
              "\n",
              "        displayQuickchartButton(document);\n",
              "      </script>\n",
              "      <style>\n",
              "    .colab-df-container {\n",
              "      display:flex;\n",
              "      flex-wrap:wrap;\n",
              "      gap: 12px;\n",
              "    }\n",
              "\n",
              "    .colab-df-convert {\n",
              "      background-color: #E8F0FE;\n",
              "      border: none;\n",
              "      border-radius: 50%;\n",
              "      cursor: pointer;\n",
              "      display: none;\n",
              "      fill: #1967D2;\n",
              "      height: 32px;\n",
              "      padding: 0 0 0 0;\n",
              "      width: 32px;\n",
              "    }\n",
              "\n",
              "    .colab-df-convert:hover {\n",
              "      background-color: #E2EBFA;\n",
              "      box-shadow: 0px 1px 2px rgba(60, 64, 67, 0.3), 0px 1px 3px 1px rgba(60, 64, 67, 0.15);\n",
              "      fill: #174EA6;\n",
              "    }\n",
              "\n",
              "    [theme=dark] .colab-df-convert {\n",
              "      background-color: #3B4455;\n",
              "      fill: #D2E3FC;\n",
              "    }\n",
              "\n",
              "    [theme=dark] .colab-df-convert:hover {\n",
              "      background-color: #434B5C;\n",
              "      box-shadow: 0px 1px 3px 1px rgba(0, 0, 0, 0.15);\n",
              "      filter: drop-shadow(0px 1px 2px rgba(0, 0, 0, 0.3));\n",
              "      fill: #FFFFFF;\n",
              "    }\n",
              "  </style>\n",
              "\n",
              "      <script>\n",
              "        const buttonEl =\n",
              "          document.querySelector('#df-88bc30f9-d36c-419c-8c64-19ed14118687 button.colab-df-convert');\n",
              "        buttonEl.style.display =\n",
              "          google.colab.kernel.accessAllowed ? 'block' : 'none';\n",
              "\n",
              "        async function convertToInteractive(key) {\n",
              "          const element = document.querySelector('#df-88bc30f9-d36c-419c-8c64-19ed14118687');\n",
              "          const dataTable =\n",
              "            await google.colab.kernel.invokeFunction('convertToInteractive',\n",
              "                                                     [key], {});\n",
              "          if (!dataTable) return;\n",
              "\n",
              "          const docLinkHtml = 'Like what you see? Visit the ' +\n",
              "            '<a target=\"_blank\" href=https://colab.research.google.com/notebooks/data_table.ipynb>data table notebook</a>'\n",
              "            + ' to learn more about interactive tables.';\n",
              "          element.innerHTML = '';\n",
              "          dataTable['output_type'] = 'display_data';\n",
              "          await google.colab.output.renderOutput(dataTable, element);\n",
              "          const docLink = document.createElement('div');\n",
              "          docLink.innerHTML = docLinkHtml;\n",
              "          element.appendChild(docLink);\n",
              "        }\n",
              "      </script>\n",
              "    </div>\n",
              "  </div>\n"
            ]
          },
          "metadata": {},
          "execution_count": 8
        }
      ]
    },
    {
      "cell_type": "markdown",
      "source": [
        "Step 3 Boxplot"
      ],
      "metadata": {
        "id": "JHPUj7oBPA5b"
      }
    },
    {
      "cell_type": "code",
      "source": [
        "from matplotlib import pyplot as plt"
      ],
      "metadata": {
        "id": "sY_S_rjQPfPl"
      },
      "execution_count": 9,
      "outputs": []
    },
    {
      "cell_type": "code",
      "source": [
        "ThonN_dead = plt.boxplot(table_ex['ThonN_dead']);"
      ],
      "metadata": {
        "colab": {
          "base_uri": "https://localhost:8080/",
          "height": 430
        },
        "id": "qPbjXyVeQ02X",
        "outputId": "41a6758e-b8e3-48ac-db5e-ee4b2b21fa5b"
      },
      "execution_count": 26,
      "outputs": [
        {
          "output_type": "display_data",
          "data": {
            "text/plain": [
              "<Figure size 640x480 with 1 Axes>"
            ],
            "image/png": "[encoded data removed]"
          },
          "metadata": {}
        }
      ]
    },
    {
      "cell_type": "code",
      "source": [
        "ThonN_dead"
      ],
      "metadata": {
        "colab": {
          "base_uri": "https://localhost:8080/"
        },
        "id": "JLQxZ2XfRCQF",
        "outputId": "fcd979fc-1087-423a-f68f-f7bb4bb1fc20"
      },
      "execution_count": 27,
      "outputs": [
        {
          "output_type": "execute_result",
          "data": {
            "text/plain": [
              "{'whiskers': [<matplotlib.lines.Line2D at 0x7973c2b36fb0>,\n",
              "  <matplotlib.lines.Line2D at 0x7973c2b37250>],\n",
              " 'caps': [<matplotlib.lines.Line2D at 0x7973c2b374f0>,\n",
              "  <matplotlib.lines.Line2D at 0x7973c2b37790>],\n",
              " 'boxes': [<matplotlib.lines.Line2D at 0x7973c2b36d10>],\n",
              " 'medians': [<matplotlib.lines.Line2D at 0x7973c2b37a30>],\n",
              " 'fliers': [<matplotlib.lines.Line2D at 0x7973c2b37cd0>],\n",
              " 'means': []}"
            ]
          },
          "metadata": {},
          "execution_count": 27
        }
      ]
    },
    {
      "cell_type": "code",
      "source": [
        "ThonN_dead['whiskers'][0].get_ydata()"
      ],
      "metadata": {
        "colab": {
          "base_uri": "https://localhost:8080/"
        },
        "id": "pdOVqM7NRELe",
        "outputId": "04582fec-b6b3-4e43-8092-fc243b6a7f13"
      },
      "execution_count": 28,
      "outputs": [
        {
          "output_type": "execute_result",
          "data": {
            "text/plain": [
              "array([6.5, 6. ])"
            ]
          },
          "metadata": {},
          "execution_count": 28
        }
      ]
    },
    {
      "cell_type": "code",
      "source": [
        "ThonN_dead['medians'][0].get_ydata()"
      ],
      "metadata": {
        "colab": {
          "base_uri": "https://localhost:8080/"
        },
        "id": "RUhWK8YVRINe",
        "outputId": "128f138d-f3d2-4b80-d404-6b7e06e89d6d"
      },
      "execution_count": 29,
      "outputs": [
        {
          "output_type": "execute_result",
          "data": {
            "text/plain": [
              "array([8., 8.])"
            ]
          },
          "metadata": {},
          "execution_count": 29
        }
      ]
    },
    {
      "cell_type": "code",
      "source": [
        "ThonN_dead['fliers'][0].get_ydata()"
      ],
      "metadata": {
        "colab": {
          "base_uri": "https://localhost:8080/"
        },
        "id": "yH-kdAiORLZt",
        "outputId": "7daec9b3-8cdf-47f9-cd25-f012e7c34f87"
      },
      "execution_count": 30,
      "outputs": [
        {
          "output_type": "execute_result",
          "data": {
            "text/plain": [
              "array([], dtype=int64)"
            ]
          },
          "metadata": {},
          "execution_count": 30
        }
      ]
    },
    {
      "cell_type": "code",
      "source": [
        "ThonS_dead = plt.boxplot(table_ex['ThonS_dead']);"
      ],
      "metadata": {
        "colab": {
          "base_uri": "https://localhost:8080/",
          "height": 430
        },
        "id": "oaZA88uvScmV",
        "outputId": "97c068df-8b28-49c2-d6a2-62df594880ca"
      },
      "execution_count": 37,
      "outputs": [
        {
          "output_type": "display_data",
          "data": {
            "text/plain": [
              "<Figure size 640x480 with 1 Axes>"
            ],
            "image/png": "[encoded data removed]"
          },
          "metadata": {}
        }
      ]
    },
    {
      "cell_type": "code",
      "source": [
        "ThonS_dead"
      ],
      "metadata": {
        "colab": {
          "base_uri": "https://localhost:8080/"
        },
        "id": "fnIo1nzYSgg2",
        "outputId": "e3e0029d-da2b-4d1e-b5b2-7a36ebfcea40"
      },
      "execution_count": 38,
      "outputs": [
        {
          "output_type": "execute_result",
          "data": {
            "text/plain": [
              "{'whiskers': [<matplotlib.lines.Line2D at 0x7973c11ba680>,\n",
              "  <matplotlib.lines.Line2D at 0x7973c11ba920>],\n",
              " 'caps': [<matplotlib.lines.Line2D at 0x7973c11babc0>,\n",
              "  <matplotlib.lines.Line2D at 0x7973c11bae60>],\n",
              " 'boxes': [<matplotlib.lines.Line2D at 0x7973c11ba3e0>],\n",
              " 'medians': [<matplotlib.lines.Line2D at 0x7973c11bb100>],\n",
              " 'fliers': [<matplotlib.lines.Line2D at 0x7973c11bb3a0>],\n",
              " 'means': []}"
            ]
          },
          "metadata": {},
          "execution_count": 38
        }
      ]
    },
    {
      "cell_type": "code",
      "source": [
        "ThonS_dead['whiskers'][0].get_ydata()"
      ],
      "metadata": {
        "colab": {
          "base_uri": "https://localhost:8080/"
        },
        "id": "xw5y5ktqSlJN",
        "outputId": "973f083e-2711-4f0b-ac5f-828dae425b40"
      },
      "execution_count": 39,
      "outputs": [
        {
          "output_type": "execute_result",
          "data": {
            "text/plain": [
              "array([13., 12.])"
            ]
          },
          "metadata": {},
          "execution_count": 39
        }
      ]
    },
    {
      "cell_type": "code",
      "source": [
        "ThonS_dead['medians'][0].get_ydata()"
      ],
      "metadata": {
        "colab": {
          "base_uri": "https://localhost:8080/"
        },
        "id": "XIP7mNR6Soug",
        "outputId": "88b4d642-25f0-4c4a-c37b-759a93443420"
      },
      "execution_count": 40,
      "outputs": [
        {
          "output_type": "execute_result",
          "data": {
            "text/plain": [
              "array([14., 14.])"
            ]
          },
          "metadata": {},
          "execution_count": 40
        }
      ]
    },
    {
      "cell_type": "code",
      "source": [
        "ThonS_dead['fliers'][0].get_ydata()"
      ],
      "metadata": {
        "colab": {
          "base_uri": "https://localhost:8080/"
        },
        "id": "N75I2qr3StLv",
        "outputId": "07c45155-3c41-4302-e590-625ad9c32f93"
      },
      "execution_count": 41,
      "outputs": [
        {
          "output_type": "execute_result",
          "data": {
            "text/plain": [
              "array([], dtype=int64)"
            ]
          },
          "metadata": {},
          "execution_count": 41
        }
      ]
    },
    {
      "cell_type": "code",
      "source": [
        "KTN_dead = plt.boxplot(table_ex['KTN_dead']);"
      ],
      "metadata": {
        "colab": {
          "base_uri": "https://localhost:8080/",
          "height": 430
        },
        "id": "TUdx_MzFPAbb",
        "outputId": "d49e62e3-f90f-4ad6-8cf1-823217aede3c"
      },
      "execution_count": 11,
      "outputs": [
        {
          "output_type": "display_data",
          "data": {
            "text/plain": [
              "<Figure size 640x480 with 1 Axes>"
            ],
            "image/png": "[encoded data removed]"
          },
          "metadata": {}
        }
      ]
    },
    {
      "cell_type": "code",
      "source": [
        "KTN_dead"
      ],
      "metadata": {
        "colab": {
          "base_uri": "https://localhost:8080/"
        },
        "id": "vU0oCAqfPv6V",
        "outputId": "b153b01d-3ac0-4834-fb1c-c8b073e6765e"
      },
      "execution_count": 12,
      "outputs": [
        {
          "output_type": "execute_result",
          "data": {
            "text/plain": [
              "{'whiskers': [<matplotlib.lines.Line2D at 0x7973c2c520b0>,\n",
              "  <matplotlib.lines.Line2D at 0x7973c2c52350>],\n",
              " 'caps': [<matplotlib.lines.Line2D at 0x7973c2c525f0>,\n",
              "  <matplotlib.lines.Line2D at 0x7973c2c52890>],\n",
              " 'boxes': [<matplotlib.lines.Line2D at 0x7973c2c51e10>],\n",
              " 'medians': [<matplotlib.lines.Line2D at 0x7973c2c52b30>],\n",
              " 'fliers': [<matplotlib.lines.Line2D at 0x7973c2c52dd0>],\n",
              " 'means': []}"
            ]
          },
          "metadata": {},
          "execution_count": 12
        }
      ]
    },
    {
      "cell_type": "code",
      "source": [
        "KTN_dead['whiskers'][0].get_ydata()"
      ],
      "metadata": {
        "colab": {
          "base_uri": "https://localhost:8080/"
        },
        "id": "MicH9LEpQOhQ",
        "outputId": "a57a12de-6864-4c27-a728-a2d0aa33a264"
      },
      "execution_count": 16,
      "outputs": [
        {
          "output_type": "execute_result",
          "data": {
            "text/plain": [
              "array([10.5,  6. ])"
            ]
          },
          "metadata": {},
          "execution_count": 16
        }
      ]
    },
    {
      "cell_type": "code",
      "source": [
        "KTN_dead['medians'][0].get_ydata()"
      ],
      "metadata": {
        "colab": {
          "base_uri": "https://localhost:8080/"
        },
        "id": "Lc81fwitQTtp",
        "outputId": "0ad65023-6e1a-43c1-d597-d3c2442a2673"
      },
      "execution_count": 17,
      "outputs": [
        {
          "output_type": "execute_result",
          "data": {
            "text/plain": [
              "array([13., 13.])"
            ]
          },
          "metadata": {},
          "execution_count": 17
        }
      ]
    },
    {
      "cell_type": "code",
      "source": [
        "KTN_dead['fliers'][0].get_ydata()"
      ],
      "metadata": {
        "colab": {
          "base_uri": "https://localhost:8080/"
        },
        "id": "K17drmKMQBzQ",
        "outputId": "3b0f3c0a-3fa1-4057-9add-4ae02c8934ad"
      },
      "execution_count": 15,
      "outputs": [
        {
          "output_type": "execute_result",
          "data": {
            "text/plain": [
              "array([], dtype=int64)"
            ]
          },
          "metadata": {},
          "execution_count": 15
        }
      ]
    },
    {
      "cell_type": "code",
      "source": [
        "KTS_dead = plt.boxplot(table_ex['KTS_dead']);"
      ],
      "metadata": {
        "colab": {
          "base_uri": "https://localhost:8080/",
          "height": 430
        },
        "id": "unmIkFv-P3Xn",
        "outputId": "7716159c-5a1d-413d-880c-06ab57b40494"
      },
      "execution_count": 13,
      "outputs": [
        {
          "output_type": "display_data",
          "data": {
            "text/plain": [
              "<Figure size 640x480 with 1 Axes>"
            ],
            "image/png": "[encoded data removed]"
          },
          "metadata": {}
        }
      ]
    },
    {
      "cell_type": "code",
      "source": [
        "KTS_dead"
      ],
      "metadata": {
        "colab": {
          "base_uri": "https://localhost:8080/"
        },
        "id": "m8JoRfUyP64V",
        "outputId": "2e106c69-ea5d-497b-c6b5-ee9993821419"
      },
      "execution_count": 14,
      "outputs": [
        {
          "output_type": "execute_result",
          "data": {
            "text/plain": [
              "{'whiskers': [<matplotlib.lines.Line2D at 0x7973c2ce0e20>,\n",
              "  <matplotlib.lines.Line2D at 0x7973c2ce10c0>],\n",
              " 'caps': [<matplotlib.lines.Line2D at 0x7973c2ce1360>,\n",
              "  <matplotlib.lines.Line2D at 0x7973c2ce1600>],\n",
              " 'boxes': [<matplotlib.lines.Line2D at 0x7973c2ce0b80>],\n",
              " 'medians': [<matplotlib.lines.Line2D at 0x7973c2ce18a0>],\n",
              " 'fliers': [<matplotlib.lines.Line2D at 0x7973c2ce1b40>],\n",
              " 'means': []}"
            ]
          },
          "metadata": {},
          "execution_count": 14
        }
      ]
    },
    {
      "cell_type": "code",
      "source": [
        "KTS_dead['whiskers'][0].get_ydata()"
      ],
      "metadata": {
        "colab": {
          "base_uri": "https://localhost:8080/"
        },
        "id": "Q8CJuY4nQYJE",
        "outputId": "a9fd3913-0a4d-4d48-a635-135162d63884"
      },
      "execution_count": 24,
      "outputs": [
        {
          "output_type": "execute_result",
          "data": {
            "text/plain": [
              "array([7.5, 7. ])"
            ]
          },
          "metadata": {},
          "execution_count": 24
        }
      ]
    },
    {
      "cell_type": "code",
      "source": [
        "KTS_dead['medians'][0].get_ydata()"
      ],
      "metadata": {
        "colab": {
          "base_uri": "https://localhost:8080/"
        },
        "id": "dq6S8FfJQadm",
        "outputId": "0455d313-509b-4cbb-96e8-963ae3533854"
      },
      "execution_count": 23,
      "outputs": [
        {
          "output_type": "execute_result",
          "data": {
            "text/plain": [
              "array([9., 9.])"
            ]
          },
          "metadata": {},
          "execution_count": 23
        }
      ]
    },
    {
      "cell_type": "code",
      "source": [
        "KTS_dead['fliers'][0].get_ydata()"
      ],
      "metadata": {
        "colab": {
          "base_uri": "https://localhost:8080/"
        },
        "id": "QfF6xrIjQkBw",
        "outputId": "b9d7fd33-dd3a-4846-a7d7-7962620c11c8"
      },
      "execution_count": 25,
      "outputs": [
        {
          "output_type": "execute_result",
          "data": {
            "text/plain": [
              "array([], dtype=int64)"
            ]
          },
          "metadata": {},
          "execution_count": 25
        }
      ]
    },
    {
      "cell_type": "markdown",
      "source": [
        "Step 4 : plot"
      ],
      "metadata": {
        "id": "9CoIcUY_RVXv"
      }
    },
    {
      "cell_type": "markdown",
      "source": [
        "plot"
      ],
      "metadata": {
        "id": "YnygjrupTKbB"
      }
    },
    {
      "cell_type": "code",
      "source": [
        "labels = ['jan','Feb','Mar','Apr','May','Jun','July']"
      ],
      "metadata": {
        "id": "iSpZ7T_3RUtW"
      },
      "execution_count": 32,
      "outputs": []
    },
    {
      "cell_type": "code",
      "source": [
        "plt.plot(range(len(table_ex)), table_ex['ThonN_dead'],'o--b',label='Thon North')\n",
        "plt.plot(range(len(table_ex)), table_ex['ThonS_dead'],'o--y',label='Thon South')\n",
        "plt.plot(range(len(table_ex)), table_ex['KTN_dead'],'o--r',label='Bangk North')\n",
        "plt.plot(range(len(table_ex)), table_ex['KTS_dead'],'o--g',label=' Bangk South')\n",
        "plt.title('Thon North vs Thon South vs Bangk North vs Bangk South')\n",
        "plt.xlabel('Month')\n",
        "plt.ylabel('number of people')\n",
        "plt.xticks(range(len(table_ex)),labels)\n",
        "plt.legend();"
      ],
      "metadata": {
        "colab": {
          "base_uri": "https://localhost:8080/",
          "height": 472
        },
        "id": "cmUZE2rrRqCX",
        "outputId": "957d2485-b9bc-43e9-866b-cb3bb7d44fce"
      },
      "execution_count": 43,
      "outputs": [
        {
          "output_type": "display_data",
          "data": {
            "text/plain": [
              "<Figure size 640x480 with 1 Axes>"
            ],
            "image/png": "[encoded data removed]"
          },
          "metadata": {}
        }
      ]
    },
    {
      "cell_type": "markdown",
      "source": [
        "Bar chart"
      ],
      "metadata": {
        "id": "dcohNY12TMNU"
      }
    },
    {
      "cell_type": "code",
      "source": [
        "plt.bar(range(len(table_ex)), table_ex['ThonN_dead'],color='b',label='Thon North')\n",
        "plt.bar(range(len(table_ex)), table_ex['ThonS_dead'],bottom=table_ex['ThonN_dead'],color='y',label='Thon South')\n",
        "plt.bar(range(len(table_ex)), table_ex['KTN_dead'],bottom=table_ex['ThonS_dead']+table_ex['ThonN_dead'],color='r',label='Bangk North')\n",
        "plt.bar(range(len(table_ex)), table_ex['KTS_dead'],bottom=table_ex['KTN_dead']+table_ex['ThonS_dead']+table_ex['ThonN_dead'],color='g',label='Bangk South')\n",
        "plt.xticks(range(len(table_ex)),labels)\n",
        "plt.grid(True,axis='y')\n",
        "plt.legend();"
      ],
      "metadata": {
        "colab": {
          "base_uri": "https://localhost:8080/",
          "height": 430
        },
        "id": "EE9lqNfPTfji",
        "outputId": "5ab168d7-79bd-4813-b0d2-1bd641de1780"
      },
      "execution_count": 46,
      "outputs": [
        {
          "output_type": "display_data",
          "data": {
            "text/plain": [
              "<Figure size 640x480 with 1 Axes>"
            ],
            "image/png": "[encoded data removed]"
          },
          "metadata": {}
        }
      ]
    },
    {
      "cell_type": "code",
      "source": [
        "import numpy as np\n",
        "width = 0.2\n",
        "np.array(range(len(table_ex)))-width"
      ],
      "metadata": {
        "colab": {
          "base_uri": "https://localhost:8080/"
        },
        "id": "wsLb4LWIUY56",
        "outputId": "c2d3ad3a-199e-4d94-d81b-4ced64455264"
      },
      "execution_count": 48,
      "outputs": [
        {
          "output_type": "execute_result",
          "data": {
            "text/plain": [
              "array([-0.2,  0.8,  1.8,  2.8,  3.8,  4.8,  5.8])"
            ]
          },
          "metadata": {},
          "execution_count": 48
        }
      ]
    },
    {
      "cell_type": "code",
      "source": [
        "width = 0.2\n",
        "plt.bar(range(len(table_ex)), table_ex['ThonN_dead'],width,color='b',label='ThonN_dead')\n",
        "plt.bar(np.array(range(len(table_ex)))+width, table_ex['ThonS_dead'],width,color='y',label='ThonS_dead')\n",
        "plt.bar(np.array(range(len(table_ex)))+width+width, table_ex['KTN_dead'],width,color='r',label='KTN_dead')\n",
        "plt.bar(np.array(range(len(table_ex)))+width+width+width, table_ex['KTS_dead'],width,color='g',label='KTS_dead')\n",
        "plt.xticks(range(len(table_ex)),labels)\n",
        "plt.legend();"
      ],
      "metadata": {
        "colab": {
          "base_uri": "https://localhost:8080/",
          "height": 430
        },
        "id": "y3PbLhqsUf34",
        "outputId": "a1bbe1c6-53ec-4122-84e5-de9a173b9fd8"
      },
      "execution_count": 49,
      "outputs": [
        {
          "output_type": "display_data",
          "data": {
            "text/plain": [
              "<Figure size 640x480 with 1 Axes>"
            ],
            "image/png": "[encoded data removed]"
          },
          "metadata": {}
        }
      ]
    }
  ]
}